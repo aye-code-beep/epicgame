{
 "cells": [
  {
   "metadata": {},
   "cell_type": "markdown",
   "source": [
    "# This is a sample Jupyter Notebook\n",
    "\n",
    "Below is an example of a code cell. \n",
    "Put your cursor into the cell and press Shift+Enter to execute it and select the next one, or click 'Run Cell' button.\n",
    "\n",
    "Press Double Shift to search everywhere for classes, files, tool windows, actions, and settings.\n",
    "\n",
    "To learn more about Jupyter Notebooks in PyCharm, see [help](https://www.jetbrains.com/help/pycharm/ipython-notebook-support.html).\n",
    "For an overview of PyCharm, go to Help -> Learn IDE features or refer to [our documentation](https://www.jetbrains.com/help/pycharm/getting-started.html)."
   ],
   "id": "8a77807f92f26ee"
  },
  {
   "metadata": {
    "ExecuteTime": {
     "end_time": "2025-02-19T22:11:38.050651Z",
     "start_time": "2025-02-19T22:11:30.689654Z"
    }
   },
   "cell_type": "code",
   "source": [
    "name = input(\"Enter your name: \")\n",
    "print(f\"Hello, {name}\")\n",
    "input_color = input(\"Choose your favorite color: Red, Green or Blue\")\n",
    "print(f\"Is your favorite color {input_color}?\")\n",
    "yes_no = input(\"Yes or No: \")\n",
    "if yes_no == \"Yes\":\n",
    "    print(\"Great!\")\n",
    "else: print(\"Sorry.\")\n",
    "\n"
   ],
   "id": "fbc121e30a2defb3",
   "outputs": [
    {
     "name": "stdout",
     "output_type": "stream",
     "text": [
      "Hello, Anna\n",
      "Is your favorite color Blue?\n",
      "Great!\n"
     ]
    }
   ],
   "execution_count": 14
  },
  {
   "metadata": {
    "ExecuteTime": {
     "end_time": "2025-02-19T21:22:50.906021Z",
     "start_time": "2025-02-19T21:22:46.411851Z"
    }
   },
   "cell_type": "code",
   "source": [
    "base_price = input(\"Base price: \")\n",
    "final_price = float(base_price) * 1.2\n",
    "print(f\"Final price: {final_price}\")"
   ],
   "id": "c44acafa9e56d62",
   "outputs": [
    {
     "name": "stdout",
     "output_type": "stream",
     "text": [
      "Final price: 119.98799999999999\n"
     ]
    }
   ],
   "execution_count": 4
  },
  {
   "metadata": {
    "ExecuteTime": {
     "end_time": "2025-02-19T21:25:10.669632Z",
     "start_time": "2025-02-19T21:25:10.667408Z"
    }
   },
   "cell_type": "code",
   "source": "print(\"Hello I am Anna's Daddy\")",
   "id": "480a7cd8f8e4cbe9",
   "outputs": [
    {
     "name": "stdout",
     "output_type": "stream",
     "text": [
      "Hello I am Anna's Daddy\n"
     ]
    }
   ],
   "execution_count": 5
  },
  {
   "metadata": {},
   "cell_type": "code",
   "outputs": [],
   "execution_count": null,
   "source": "",
   "id": "6d744d82524f3e89"
  }
 ],
 "metadata": {
  "kernelspec": {
   "display_name": "Python 3",
   "language": "python",
   "name": "python3"
  },
  "language_info": {
   "codemirror_mode": {
    "name": "ipython",
    "version": 2
   },
   "file_extension": ".py",
   "mimetype": "text/x-python",
   "name": "python",
   "nbconvert_exporter": "python",
   "pygments_lexer": "ipython2",
   "version": "2.7.6"
  }
 },
 "nbformat": 4,
 "nbformat_minor": 5
}
