{
 "cells": [
  {
   "metadata": {},
   "cell_type": "markdown",
   "source": "## Input and Calculation",
   "id": "93cb71ea7889d33"
  },
  {
   "metadata": {
    "ExecuteTime": {
     "end_time": "2025-02-20T22:00:26.179093Z",
     "start_time": "2025-02-20T21:59:54.411233Z"
    }
   },
   "cell_type": "code",
   "source": [
    "name = input(\"Enter your name: \")\n",
    "print(f\"Hello, {name}\")\n",
    "input_color = input(\"Choose your favorite color: Red, Green or Blue\")\n",
    "print(f\"Is your favorite color {input_color}?\")\n",
    "yes_no = input(\"Yes or No: \")\n",
    "if yes_no == \"Yes\":\n",
    "    print(\"Great!\")\n",
    "else: print(\"Sorry.\")\n",
    "\n",
    "print(\"Hello I am Anna's Daddy\")\n",
    "\n"
   ],
   "id": "179c11b32252b256",
   "outputs": [
    {
     "name": "stdout",
     "output_type": "stream",
     "text": [
      "Hello, Anna\n",
      "Is your favorite color Red?\n",
      "Great!\n",
      "Hello I am Anna's Daddy\n"
     ]
    }
   ],
   "execution_count": 3
  },
  {
   "metadata": {
    "ExecuteTime": {
     "end_time": "2025-02-19T22:16:07.226546Z",
     "start_time": "2025-02-19T22:16:03.686997Z"
    }
   },
   "cell_type": "code",
   "source": [
    "base_price = input(\"Base price: \")\n",
    "final_price = float(base_price) * 1.2\n",
    "print(f\"Final price: {round(final_price, 2)}\")"
   ],
   "id": "c44acafa9e56d62",
   "outputs": [
    {
     "name": "stdout",
     "output_type": "stream",
     "text": [
      "Final price: 119.99\n"
     ]
    }
   ],
   "execution_count": 17
  },
  {
   "metadata": {
    "ExecuteTime": {
     "end_time": "2025-02-19T21:25:10.669632Z",
     "start_time": "2025-02-19T21:25:10.667408Z"
    }
   },
   "cell_type": "code",
   "source": "print(\"Hello I am Anna's Daddy\")",
   "id": "480a7cd8f8e4cbe9",
   "outputs": [
    {
     "name": "stdout",
     "output_type": "stream",
     "text": [
      "Hello I am Anna's Daddy\n"
     ]
    }
   ],
   "execution_count": 5
  },
  {
   "metadata": {
    "ExecuteTime": {
     "end_time": "2025-02-20T22:16:01.012970Z",
     "start_time": "2025-02-20T22:15:22.545691Z"
    }
   },
   "cell_type": "code",
   "source": [
    "type_of_adventure = input(\"Ready for an epic adventure? Would you like to go to a forest or a desert?\")\n",
    "if type_of_adventure == \"Forest\":\n",
    "    print(\"You have chosen a forest adventure\")\n",
    "    input_forest_size = input(\"What size forest would you like to go to? Small, Medium or Large?\")\n",
    "    if input_forest_size == \"Small\":\n",
    "        print(\"You have chosen a small forest adventure\")\n",
    "    elif input_forest_size == \"Medium\":\n",
    "        print(\"You have chosen a medium forest adventure\")\n",
    "    elif input_forest_size == \"Large\":\n",
    "        print(\"You have chosen a large forest adventure\")\n",
    "    else:\n",
    "        print(\"You have chosen an invalid forest size\")\n",
    "    plant_type= input(\"Would you like to explore an enchanted tree or a poisonous flower?\")\n",
    "    if plant_type == \"Enchanted Tree\":\n",
    "        Yes_no1 = input(\"You got tangled inside! Do you call for help? Yes or No?\")\n",
    "        if Yes_no1 == \"Yes\":\n",
    "            print(\"That's correct! You have been called for help\")\n",
    "        else:\n",
    "            print(\"That is not correct! You have been caught! You are now dead.\")\n"
   ],
   "id": "6d744d82524f3e89",
   "outputs": [
    {
     "name": "stdout",
     "output_type": "stream",
     "text": [
      "You have chosen a forest adventure\n",
      "You have chosen a large forest adventure\n",
      "That's correct! You have been called for help\n"
     ]
    }
   ],
   "execution_count": 11
  }
 ],
 "metadata": {
  "kernelspec": {
   "display_name": "Python 3",
   "language": "python",
   "name": "python3"
  },
  "language_info": {
   "codemirror_mode": {
    "name": "ipython",
    "version": 2
   },
   "file_extension": ".py",
   "mimetype": "text/x-python",
   "name": "python",
   "nbconvert_exporter": "python",
   "pygments_lexer": "ipython2",
   "version": "2.7.6"
  }
 },
 "nbformat": 4,
 "nbformat_minor": 5
}
